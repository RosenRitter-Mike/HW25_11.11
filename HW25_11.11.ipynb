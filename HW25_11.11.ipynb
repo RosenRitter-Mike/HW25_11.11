{
 "cells": [
  {
   "cell_type": "code",
   "execution_count": 1,
   "id": "5af76574-8211-44b9-a968-c71d09ad8017",
   "metadata": {},
   "outputs": [],
   "source": [
    "import numpy as np\n",
    "import pandas as pd"
   ]
  },
  {
   "cell_type": "code",
   "execution_count": 5,
   "id": "a8e4a974-d43b-4f02-973b-a10d3b064da5",
   "metadata": {},
   "outputs": [],
   "source": [
    "pc_games = pd.Series([\"Planet Coaster 2\", \"Mario & Luigi: Brothership\", \"Slitterhead\", \"The Rise of the Golden Idol\", \"Dragon Quest 3 HD-2D Remake\", \"Microsoft Flight Simulator 2024\", \"Stalker 2: Heart of Chornobyl\", \"Fantasian Neo Dimension\", \"Marvel Rivals\", \"Indiana Jones and the Great Circle\", \"Blood Line: A Rebel Moon Game\", \"The Legend of Zelda: Echoes of Wisdom\"])"
   ]
  },
  {
   "cell_type": "code",
   "execution_count": 19,
   "id": "ba1a0940-6526-4cbb-b291-fc4d98e70cc1",
   "metadata": {},
   "outputs": [
    {
     "name": "stdout",
     "output_type": "stream",
     "text": [
      "a.\n",
      "Pc games:\n",
      "0                          Planet Coaster 2\n",
      "1                Mario & Luigi: Brothership\n",
      "2                               Slitterhead\n",
      "3               The Rise of the Golden Idol\n",
      "4               Dragon Quest 3 HD-2D Remake\n",
      "5           Microsoft Flight Simulator 2024\n",
      "6             Stalker 2: Heart of Chornobyl\n",
      "7                   Fantasian Neo Dimension\n",
      "8                             Marvel Rivals\n",
      "9        Indiana Jones and the Great Circle\n",
      "10            Blood Line: A Rebel Moon Game\n",
      "11    The Legend of Zelda: Echoes of Wisdom\n",
      "dtype: object\n",
      "\n",
      "b.\n",
      "Game at index 3 is : The Rise of the Golden Idol\n",
      "\n",
      "d.\n",
      "Pc games with prices:\n",
      "Planet Coaster 2                         224.96\n",
      "Mario & Luigi: Brothership               187.46\n",
      "Slitterhead                              149.96\n",
      "The Rise of the Golden Idol              131.21\n",
      "Dragon Quest 3 HD-2D Remake              187.46\n",
      "Microsoft Flight Simulator 2024          262.46\n",
      "Stalker 2: Heart of Chornobyl            224.96\n",
      "Fantasian Neo Dimension                  168.71\n",
      "Marvel Rivals                            149.96\n",
      "Indiana Jones and the Great Circle       206.21\n",
      "Blood Line: A Rebel Moon Game              0.00\n",
      "The Legend of Zelda: Echoes of Wisdom    262.46\n",
      "dtype: float64\n",
      "\n",
      "e.\n",
      "The price of Marvel Rivals is : 149.96\n",
      "\n",
      "f.\n",
      "Game prices keys:\n",
      "['Planet Coaster 2' 'Mario & Luigi: Brothership' 'Slitterhead'\n",
      " 'The Rise of the Golden Idol' 'Dragon Quest 3 HD-2D Remake'\n",
      " 'Microsoft Flight Simulator 2024' 'Stalker 2: Heart of Chornobyl'\n",
      " 'Fantasian Neo Dimension' 'Marvel Rivals'\n",
      " 'Indiana Jones and the Great Circle' 'Blood Line: A Rebel Moon Game'\n",
      " 'The Legend of Zelda: Echoes of Wisdom']\n",
      "\n",
      "g.\n",
      "Series data type:\n",
      "float64\n",
      "\n",
      "i.\n",
      "Series with reset index:\n",
      "0    224.96\n",
      "1    187.46\n",
      "2    149.96\n",
      "dtype: float64\n"
     ]
    }
   ],
   "source": [
    "print(f'a.\\nPc games:\\n{pc_games}')\n",
    "print(f'\\nb.\\nGame at index 3 is : {pc_games[3]}')\n",
    "prices = np.array([224.96, 187.46, 149.96, 131.21, 187.46, 262.46, 224.96, 168.71, 149.96, 206.21, 0.0, 262.46]) \n",
    "pc_game_prices = pd.Series(data=prices, index=pc_games)\n",
    "print(f'\\nd.\\nPc games with prices:\\n{pc_game_prices}')\n",
    "print(f\"\\ne.\\nThe price of Marvel Rivals is : {pc_game_prices['Marvel Rivals']}\")\n",
    "print(f'\\nf.\\nGame prices keys:\\n{pc_game_prices.index.values}')\n",
    "print(f'\\ng.\\nSeries data type:\\n{pc_game_prices.dtype}')\n",
    "game_dict = {'Planet Coaster 2': 224.96, 'Mario & Luigi: Brothership': 187.46, 'Slitterhead': 149.96}\n",
    "game_ser = pd.Series(game_dict)\n",
    "game_ser.reset_index(drop=True, inplace=True)\n",
    "print(f'\\ni.\\nSeries with reset index:\\n{game_ser}')"
   ]
  },
  {
   "cell_type": "markdown",
   "id": "3fd03593-8fab-488c-b63a-1356b07546b7",
   "metadata": {},
   "source": [
    "#### Exercise 2\n",
    "The differance between add and + in Series is:\n",
    ".add() lets you specify a fill_value to replace NaN during the operation, ensuring meaningful results when missing data is involved."
   ]
  },
  {
   "cell_type": "code",
   "execution_count": 22,
   "id": "a56a1839-1fdc-42f9-a27d-0bf0781c7e41",
   "metadata": {
    "scrolled": true
   },
   "outputs": [
    {
     "name": "stdout",
     "output_type": "stream",
     "text": [
      "Game Prices after sale:\n",
      "Mario & Luigi: Brothership               187.46\n",
      "Marvel Rivals                             69.96\n",
      "Planet Coaster 2                         174.96\n",
      "Slitterhead                              149.96\n",
      "The Legend of Zelda: Echoes of Wisdom    247.46\n",
      "dtype: float64\n"
     ]
    }
   ],
   "source": [
    "game_dict = {\"Planet Coaster 2\": 224.96, \"Mario & Luigi: Brothership\": 187.46, \"Slitterhead\": 149.96, \"Marvel Rivals\": 149.96, \"The Legend of Zelda: Echoes of Wisdom\": 262.46 }\n",
    "game_ser = pd.Series(game_dict)\n",
    "sale = {\"Planet Coaster 2\": -50, \"Marvel Rivals\": -80, \"The Legend of Zelda: Echoes of Wisdom\": -15 }\n",
    "sale_ser = pd.Series(sale)\n",
    "games_sale = game_ser.add(sale_ser, fill_value=0)\n",
    "print(f'Game Prices after sale:\\n{games_sale}')"
   ]
  },
  {
   "cell_type": "code",
   "execution_count": null,
   "id": "9c2b6855-1401-4dac-b7f8-1a896890e017",
   "metadata": {},
   "outputs": [],
   "source": []
  }
 ],
 "metadata": {
  "kernelspec": {
   "display_name": "Python 3 (ipykernel)",
   "language": "python",
   "name": "python3"
  },
  "language_info": {
   "codemirror_mode": {
    "name": "ipython",
    "version": 3
   },
   "file_extension": ".py",
   "mimetype": "text/x-python",
   "name": "python",
   "nbconvert_exporter": "python",
   "pygments_lexer": "ipython3",
   "version": "3.10.12"
  }
 },
 "nbformat": 4,
 "nbformat_minor": 5
}
